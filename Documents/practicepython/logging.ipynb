{
 "cells": [
  {
   "cell_type": "code",
   "execution_count": 3,
   "metadata": {},
   "outputs": [
    {
     "name": "stderr",
     "output_type": "stream",
     "text": [
      "WARNING:root:The warning message is displaying\n",
      "ERROR:root:The error message is displaying\n",
      "CRITICAL:root:The critical message is displaying\n"
     ]
    }
   ],
   "source": [
    "import logging \n",
    "\n",
    "logging.debug(\"The debug message is displaying\")\n",
    "logging.info(\"The info message is displaying\")\n",
    "logging.warning(\"The warning message is displaying\")\n",
    "logging.error(\"The error message is displaying\")\n",
    "logging.critical(\"The critical message is displaying\")"
   ]
  },
  {
   "cell_type": "code",
   "execution_count": 4,
   "metadata": {},
   "outputs": [],
   "source": [
    "logging.basicConfig(level=logging.DEBUG)\n",
    "logging.debug(\"The debug message is logged\")"
   ]
  },
  {
   "cell_type": "code",
   "execution_count": 5,
   "metadata": {},
   "outputs": [
    {
     "name": "stderr",
     "output_type": "stream",
     "text": [
      "WARNING:root:This will get logged to a file\n"
     ]
    }
   ],
   "source": [
    "logging.basicConfig(filename='msg.log', filemode = 'w',format = '%(name)s-%(levelname)s-%(message)s')\n",
    "logging.warning(\"This will get logged to a file\")"
   ]
  },
  {
   "cell_type": "code",
   "execution_count": null,
   "metadata": {},
   "outputs": [],
   "source": []
  }
 ],
 "metadata": {
  "kernelspec": {
   "display_name": "Python 3",
   "language": "python",
   "name": "python3"
  },
  "language_info": {
   "codemirror_mode": {
    "name": "ipython",
    "version": 3
   },
   "file_extension": ".py",
   "mimetype": "text/x-python",
   "name": "python",
   "nbconvert_exporter": "python",
   "pygments_lexer": "ipython3",
   "version": "3.8.10"
  },
  "orig_nbformat": 4
 },
 "nbformat": 4,
 "nbformat_minor": 2
}
