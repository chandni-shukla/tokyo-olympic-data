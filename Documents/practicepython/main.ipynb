{
 "cells": [
  {
   "cell_type": "code",
   "execution_count": 13,
   "metadata": {},
   "outputs": [],
   "source": [
    "file = open(\"myfile.txt\", \"w\")\n",
    "file.write(\"THIS IS MY FIRST LINE\\n\")\n",
    "file.write(\"THIS IS MY SECOND LINE\\n\")\n",
    "file.close()"
   ]
  },
  {
   "cell_type": "code",
   "execution_count": 19,
   "metadata": {},
   "outputs": [
    {
     "name": "stdout",
     "output_type": "stream",
     "text": [
      "THIS IS MY FIRST LINE\n",
      "THIS IS MY SECOND LINE\n",
      "\n"
     ]
    }
   ],
   "source": [
    "file = open(\"myfile.txt\", \"r\")\n",
    "print(file.read())\n",
    "file.close()"
   ]
  },
  {
   "cell_type": "code",
   "execution_count": 17,
   "metadata": {},
   "outputs": [
    {
     "name": "stdout",
     "output_type": "stream",
     "text": [
      "['THIS IS MY FIRST LINE\\n', 'THIS IS MY SECOND LINE\\n']\n"
     ]
    }
   ],
   "source": [
    "file = open(\"myfile.txt\", \"r\")\n",
    "print(file.readlines())\n",
    "file.close()"
   ]
  },
  {
   "cell_type": "code",
   "execution_count": 18,
   "metadata": {},
   "outputs": [
    {
     "name": "stdout",
     "output_type": "stream",
     "text": [
      "12,34,55\n",
      "\n",
      "23,34,56\n",
      "\n",
      "67,57,76\n"
     ]
    }
   ],
   "source": [
    "f = open(\"file.txt\", \"r\")\n",
    "i = 0\n",
    "while True:\n",
    "    i = i+1\n",
    "    line = f.readline()\n",
    "    if not line:\n",
    "        break\n",
    "    m1 = line.split(\",\")[0]\n",
    "    m2 = line.split(\",\")[1]\n",
    "    m3 = line.split(\",\")[2]\n",
    "    # print(f\"Marks of student {i} in Maths is: {m1*2}\")\n",
    "    # print(f\"Marks of student {i} in Maths is: {m2*2}\")\n",
    "    # print(f\"Marks of student {i} in Maths is: {m3*2}\")\n",
    "    \n",
    "    print(line)"
   ]
  },
  {
   "cell_type": "code",
   "execution_count": 20,
   "metadata": {},
   "outputs": [
    {
     "name": "stdout",
     "output_type": "stream",
     "text": [
      "<class '_io.TextIOWrapper'>\n",
      "10\n",
      "3,34,\n"
     ]
    }
   ],
   "source": [
    "with open('file.txt', 'r') as f:\n",
    "    print(type(f))\n",
    "\n",
    "    f.seek(10)\n",
    "    print(f.tell())\n",
    "    data = f.read(5)\n",
    "    print(data)"
   ]
  },
  {
   "cell_type": "code",
   "execution_count": 1,
   "metadata": {},
   "outputs": [
    {
     "name": "stdout",
     "output_type": "stream",
     "text": [
      "10\n",
      "125\n",
      "5.666666666666667\n",
      "10\n"
     ]
    }
   ],
   "source": [
    "def appl(fx, value):\n",
    "    return 6 + fx(value)\n",
    "double = lambda x: x*2\n",
    "cube = lambda x: x*x*x\n",
    "avg = lambda x,y,z: (x+y+z)/3\n",
    "print(double(5))\n",
    "print(cube(5))\n",
    "print(avg(3,4,10))\n",
    "print(appl(lambda x: x*x, 2))"
   ]
  },
  {
   "cell_type": "code",
   "execution_count": 16,
   "metadata": {},
   "outputs": [
    {
     "name": "stdout",
     "output_type": "stream",
     "text": [
      "8\n",
      "[1, 8, 27, 64, 125]\n",
      "[3, 4, 5]\n"
     ]
    }
   ],
   "source": [
    "def cube(x):\n",
    "    return x*x*x\n",
    "print(cube(2))\n",
    "l = [1,2,3,4,5]\n",
    "newl = list(map(cube, l))\n",
    "print(newl)\n",
    "def filter_function(a):\n",
    "    return a>2\n",
    "newnewl = list(filter(filter_function, l))\n",
    "print(newnewl)"
   ]
  },
  {
   "cell_type": "code",
   "execution_count": 21,
   "metadata": {},
   "outputs": [
    {
     "name": "stdout",
     "output_type": "stream",
     "text": [
      "False\n",
      "True\n"
     ]
    }
   ],
   "source": [
    "# a = [1,2,3]\n",
    "# b = [1,2,3]\n",
    "a = (1,2)\n",
    "b = (1,2)\n",
    "print(a is b)\n",
    "print(a == b)"
   ]
  },
  {
   "cell_type": "code",
   "execution_count": 45,
   "metadata": {},
   "outputs": [
    {
     "name": "stdout",
     "output_type": "stream",
     "text": [
      "you 1\n",
      "computer 2\n",
      "you won\n"
     ]
    }
   ],
   "source": [
    "import random\n",
    "def check(comp, user):\n",
    "    if comp == user:\n",
    "        return 0\n",
    "    if(comp == 0 and user == 1):\n",
    "        return -1\n",
    "    \n",
    "    if(comp == 1 and user == 2):\n",
    "        return -1\n",
    "    \n",
    "    if(comp == 2 and user == 0):\n",
    "        return -1\n",
    "    return 1\n",
    "\n",
    "comp = random.randint(0,2)\n",
    "user = int(input(\"0 for snake, 1 for water and -1 for gun:\\n\"))\n",
    "\n",
    "score = check(comp, user)\n",
    "print(\"you\", user)\n",
    "print(\"computer\", comp)\n",
    "\n",
    "if(score == 0):\n",
    "    print(\"Its a draw\")\n",
    "elif(score == -1):\n",
    "        print(\"you lose\")\n",
    "else:\n",
    "     print(\"you won\")        "
   ]
  },
  {
   "attachments": {},
   "cell_type": "markdown",
   "metadata": {},
   "source": [
    "*args and **kwargs"
   ]
  },
  {
   "cell_type": "code",
   "execution_count": 53,
   "metadata": {},
   "outputs": [
    {
     "name": "stdout",
     "output_type": "stream",
     "text": [
      "<class 'tuple'>\n",
      "The name of the student is chandni and age is 22 and rollno. is 3455\n"
     ]
    }
   ],
   "source": [
    "def function_1(*args):\n",
    "    print(type(args))\n",
    "    if(len(args) == 3):\n",
    "       print(\"The name of the student is\",args[0],\"and age is\",args[1],\"and rollno. is\",args[2]) \n",
    "    else:\n",
    "        print(\"The name is\",args[0], \"and age is\",args[1])   \n",
    "function_1(\"chandni\", 22, 3455)          "
   ]
  },
  {
   "cell_type": "code",
   "execution_count": 56,
   "metadata": {},
   "outputs": [
    {
     "name": "stdout",
     "output_type": "stream",
     "text": [
      "<class 'dict'>\n",
      "chandni 89\n",
      "ankita 88\n",
      "anshika 90\n",
      "archana 91\n"
     ]
    }
   ],
   "source": [
    "# def function_1(*args):\n",
    "#     print(type(args))\n",
    "#     if(len(args) == 3):\n",
    "#        print(\"The name of the student is\",args[0],\"and age is\",args[1],\"and rollno. is\",args[2]) \n",
    "#     else:\n",
    "#         print(\"The name is\",args[0], \"and age is\",args[1])   \n",
    "def marks(**kwargs):\n",
    "    print(type(kwargs))\n",
    "    for key,value in kwargs.items():\n",
    "        print(key,value)\n",
    "marklist = {\"chandni\":89, \"ankita\":88, \"anshika\":90, \"archana\":91}\n",
    "marks(**marklist)    "
   ]
  },
  {
   "cell_type": "code",
   "execution_count": 65,
   "metadata": {},
   "outputs": [
    {
     "name": "stdout",
     "output_type": "stream",
     "text": [
      "normal arg\n",
      "chandni\n",
      "22\n",
      "35456\n",
      "chandni 89\n",
      "ankita 88\n",
      "anshika 90\n",
      "archana 91\n"
     ]
    }
   ],
   "source": [
    "def marks(**kwargs):\n",
    "    print(type(kwargs))\n",
    "    for key,value in kwargs.items():\n",
    "        print(key,value)\n",
    "def master(normal, *args, **kwargs):\n",
    "    print(normal)\n",
    "    for i in args:\n",
    "        print(i)\n",
    "    for key,value in kwargs.items():\n",
    "        print(key,value) \n",
    "list = [\"chandni\", 22, 35456]        \n",
    "marklist = {\"chandni\":89, \"ankita\":88, \"anshika\":90, \"archana\":91}    \n",
    "master(\"normal arg\", *list, **marklist)         "
   ]
  },
  {
   "cell_type": "code",
   "execution_count": 2,
   "metadata": {},
   "outputs": [
    {
     "name": "stdout",
     "output_type": "stream",
     "text": [
      "36\n"
     ]
    }
   ],
   "source": [
    "import mymodule as mx\n",
    "\n",
    "a = mx.person1[\"age\"]\n",
    "print(a)"
   ]
  },
  {
   "cell_type": "code",
   "execution_count": 5,
   "metadata": {},
   "outputs": [
    {
     "name": "stdout",
     "output_type": "stream",
     "text": [
      "Linux\n"
     ]
    }
   ],
   "source": [
    "import platform as plf\n",
    "\n",
    "x = plf.system()\n",
    "print(x)"
   ]
  },
  {
   "cell_type": "code",
   "execution_count": 4,
   "metadata": {},
   "outputs": [
    {
     "name": "stdout",
     "output_type": "stream",
     "text": [
      "['_WIN32_CLIENT_RELEASES', '_WIN32_SERVER_RELEASES', '__builtins__', '__cached__', '__copyright__', '__doc__', '__file__', '__loader__', '__name__', '__package__', '__spec__', '__version__', '_comparable_version', '_component_re', '_default_architecture', '_follow_symlinks', '_ironpython26_sys_version_parser', '_ironpython_sys_version_parser', '_java_getprop', '_libc_search', '_mac_ver_xml', '_node', '_norm_version', '_platform', '_platform_cache', '_pypy_sys_version_parser', '_sys_version', '_sys_version_cache', '_sys_version_parser', '_syscmd_file', '_syscmd_uname', '_syscmd_ver', '_uname_cache', '_ver_output', '_ver_stages', 'architecture', 'collections', 'java_ver', 'libc_ver', 'mac_ver', 'machine', 'node', 'os', 'platform', 'processor', 'python_branch', 'python_build', 'python_compiler', 'python_implementation', 'python_revision', 'python_version', 'python_version_tuple', 're', 'release', 'sys', 'system', 'system_alias', 'uname', 'uname_result', 'version', 'win32_edition', 'win32_is_iot', 'win32_ver']\n"
     ]
    }
   ],
   "source": [
    "import platform\n",
    "\n",
    "x = dir(platform)\n",
    "print(x)\n"
   ]
  },
  {
   "cell_type": "code",
   "execution_count": 6,
   "metadata": {},
   "outputs": [
    {
     "name": "stdout",
     "output_type": "stream",
     "text": [
      "2023-07-17 15:20:24.710585\n"
     ]
    }
   ],
   "source": [
    "import datetime\n",
    "\n",
    "x = datetime.datetime.now()\n",
    "\n",
    "print(x)\n"
   ]
  },
  {
   "cell_type": "code",
   "execution_count": 2,
   "metadata": {},
   "outputs": [
    {
     "name": "stdout",
     "output_type": "stream",
     "text": [
      "we are not catching exception:\n",
      "The inverse: 0.0\n"
     ]
    }
   ],
   "source": [
    "try:\n",
    "    x = int(input(\"enter a number\"))\n",
    "    y = 0/x\n",
    "finally:\n",
    "    print(\"we are not catching exception:\")\n",
    "print(\"The inverse:\", y)    \n"
   ]
  },
  {
   "cell_type": "code",
   "execution_count": 3,
   "metadata": {},
   "outputs": [
    {
     "name": "stdout",
     "output_type": "stream",
     "text": [
      "Ford\n",
      "Mustang\n",
      "Move!\n",
      "Ibiza\n",
      "Touring 20\n",
      "Sail!\n",
      "Boeing\n",
      "747\n",
      "Fly!\n"
     ]
    }
   ],
   "source": [
    "class Vehicle:\n",
    "  def __init__(self, brand, model):\n",
    "    self.brand = brand\n",
    "    self.model = model\n",
    "\n",
    "  def move(self):\n",
    "    print(\"Move!\")\n",
    "\n",
    "class Car(Vehicle):\n",
    "  pass\n",
    "\n",
    "class Boat(Vehicle):\n",
    "  def move(self):\n",
    "    print(\"Sail!\")\n",
    "\n",
    "class Plane(Vehicle):\n",
    "  def move(self):\n",
    "    print(\"Fly!\")\n",
    "\n",
    "car1 = Car(\"Ford\", \"Mustang\") #Create a Car object\n",
    "boat1 = Boat(\"Ibiza\", \"Touring 20\") #Create a Boat object\n",
    "plane1 = Plane(\"Boeing\", \"747\") #Create a Plane object\n",
    "\n",
    "for x in (car1, boat1, plane1):\n",
    "  print(x.brand)\n",
    "  print(x.model)\n",
    "  x.move()"
   ]
  },
  {
   "cell_type": "code",
   "execution_count": 5,
   "metadata": {},
   "outputs": [
    {
     "name": "stdout",
     "output_type": "stream",
     "text": [
      "Linux\n"
     ]
    }
   ],
   "source": [
    "import platform\n",
    "x = platform.system()\n",
    "print(x)"
   ]
  },
  {
   "cell_type": "code",
   "execution_count": 8,
   "metadata": {},
   "outputs": [
    {
     "name": "stdout",
     "output_type": "stream",
     "text": [
      "1\n",
      "2\n",
      "3\n"
     ]
    }
   ],
   "source": [
    "i = 1\n",
    "while i < 6:\n",
    "  print(i)\n",
    "  if i == 3:\n",
    "   break\n",
    "  i += 1"
   ]
  },
  {
   "cell_type": "code",
   "execution_count": 10,
   "metadata": {},
   "outputs": [
    {
     "name": "stdout",
     "output_type": "stream",
     "text": [
      "1\n",
      "2\n",
      "4\n",
      "5\n",
      "6\n"
     ]
    }
   ],
   "source": [
    "i = 0\n",
    "while i < 6:\n",
    "  i += 1\n",
    "  if i == 3:\n",
    "    continue\n",
    "  print(i)"
   ]
  },
  {
   "cell_type": "code",
   "execution_count": 1,
   "metadata": {},
   "outputs": [
    {
     "data": {
      "text/plain": [
       "'Hello World'"
      ]
     },
     "execution_count": 1,
     "metadata": {},
     "output_type": "execute_result"
    }
   ],
   "source": [
    "txt =  \"Hello World\"\n",
    "txt.strip()"
   ]
  },
  {
   "cell_type": "code",
   "execution_count": null,
   "metadata": {},
   "outputs": [],
   "source": []
  }
 ],
 "metadata": {
  "kernelspec": {
   "display_name": "Python 3",
   "language": "python",
   "name": "python3"
  },
  "language_info": {
   "codemirror_mode": {
    "name": "ipython",
    "version": 3
   },
   "file_extension": ".py",
   "mimetype": "text/x-python",
   "name": "python",
   "nbconvert_exporter": "python",
   "pygments_lexer": "ipython3",
   "version": "3.8.10"
  },
  "orig_nbformat": 4
 },
 "nbformat": 4,
 "nbformat_minor": 2
}
