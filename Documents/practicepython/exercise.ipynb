{
 "cells": [
  {
   "cell_type": "code",
   "execution_count": 1,
   "metadata": {},
   "outputs": [
    {
     "name": "stdout",
     "output_type": "stream",
     "text": [
      "the value of 50 + 3 is: 53\n",
      "the value of 50 * 3 is: 150\n",
      "the value of 50 / 3 is: 16.666666666666668\n",
      "the value of 50 - 3 is: 47\n",
      "the value of 50 % 3 is: 2\n"
     ]
    }
   ],
   "source": [
    "a = 50\n",
    "b = 3\n",
    "print(\"the value of\", a, \"+\", b, \"is:\", a+b)\n",
    "print(\"the value of\", a, \"*\", b, \"is:\", a*b)\n",
    "print(\"the value of\", a, \"/\", b, \"is:\", a/b)\n",
    "print(\"the value of\", a, \"-\", b, \"is:\", a-b)\n",
    "print(\"the value of\", a, \"%\", b, \"is:\", a%b)"
   ]
  },
  {
   "cell_type": "code",
   "execution_count": 1,
   "metadata": {},
   "outputs": [
    {
     "name": "stdout",
     "output_type": "stream",
     "text": [
      "Good afternoon\n"
     ]
    }
   ],
   "source": [
    "import datetime\n",
    "def currentTime():\n",
    "     print(currentTime)\n",
    "currentTime = datetime.datetime.now()\n",
    "currentTime.hour \n",
    "\n",
    "if currentTime.hour < 12 :\n",
    "     print('Good morning')\n",
    "if currentTime.hour > 12 :\n",
    "     print('Good afternoon')"
   ]
  },
  {
   "cell_type": "code",
   "execution_count": 4,
   "metadata": {},
   "outputs": [
    {
     "name": "stdout",
     "output_type": "stream",
     "text": [
      "Question for Rs. 1000\n",
      "a. india      b. us\n",
      "a. china      b. uk\n",
      "1\n",
      "Correct answer, you have won Rs 1000\n",
      "Question for Rs. 2000\n",
      "a. delhi      b. punjab\n",
      "a. bhopal      b. allahabad\n"
     ]
    },
    {
     "ename": "ValueError",
     "evalue": "invalid literal for int() with base 10: ''",
     "output_type": "error",
     "traceback": [
      "\u001b[0;31m---------------------------------------------------------------------------\u001b[0m",
      "\u001b[0;31mValueError\u001b[0m                                Traceback (most recent call last)",
      "Cell \u001b[0;32mIn[4], line 16\u001b[0m\n\u001b[1;32m     14\u001b[0m \u001b[39mprint\u001b[39m(\u001b[39mf\u001b[39m\u001b[39m\"\u001b[39m\u001b[39ma. \u001b[39m\u001b[39m{\u001b[39;00mquestion[\u001b[39m1\u001b[39m]\u001b[39m}\u001b[39;00m\u001b[39m      b. \u001b[39m\u001b[39m{\u001b[39;00mquestion[\u001b[39m2\u001b[39m]\u001b[39m}\u001b[39;00m\u001b[39m\"\u001b[39m)\n\u001b[1;32m     15\u001b[0m \u001b[39mprint\u001b[39m(\u001b[39mf\u001b[39m\u001b[39m\"\u001b[39m\u001b[39ma. \u001b[39m\u001b[39m{\u001b[39;00mquestion[\u001b[39m3\u001b[39m]\u001b[39m}\u001b[39;00m\u001b[39m      b. \u001b[39m\u001b[39m{\u001b[39;00mquestion[\u001b[39m4\u001b[39m]\u001b[39m}\u001b[39;00m\u001b[39m\"\u001b[39m)\n\u001b[0;32m---> 16\u001b[0m reply \u001b[39m=\u001b[39m \u001b[39mint\u001b[39;49m(\u001b[39minput\u001b[39;49m(\u001b[39m\"\u001b[39;49m\u001b[39mEnter your answer (1-4)\u001b[39;49m\u001b[39m\"\u001b[39;49m))\n\u001b[1;32m     17\u001b[0m \u001b[39mprint\u001b[39m(reply)\n\u001b[1;32m     18\u001b[0m \u001b[39mif\u001b[39;00m(reply \u001b[39m==\u001b[39m question[\u001b[39m-\u001b[39m\u001b[39m1\u001b[39m]):\n",
      "\u001b[0;31mValueError\u001b[0m: invalid literal for int() with base 10: ''"
     ]
    }
   ],
   "source": [
    "questions =[\n",
    "    [\n",
    "    \"1.which country is delhi located in?\", \"india\", \"us\", \"china\", \"uk\", \"none\", 1],\n",
    "\n",
    "[\n",
    "    \"2.what is the capital of India?\", \"delhi\", \"punjab\", \"bhopal\", \"allahabad\", \"none\", 1],\n",
    "\n",
    "[\"3.where is qutub minar?\", \"delhi\", \"noida\", \"gurugram\", \"america\", \"none\", 1]]\n",
    "levels=[1000,2000,3000,5000,10000,200000,40000,80000,160000,320000]\n",
    "money = 0\n",
    "for i in range(0,len(questions)):\n",
    "    question = questions[i]\n",
    "    print(f\"Question for Rs. {levels[i]}\")\n",
    "    print(f\"a. {question[1]}      b. {question[2]}\")\n",
    "    print(f\"a. {question[3]}      b. {question[4]}\")\n",
    "    reply = int(input(\"Enter your answer (1-4)\"))\n",
    "    print(reply)\n",
    "    if(reply == question[-1]):\n",
    "        print(f\"Correct answer, you have won Rs {levels[i]}\")\n",
    "        if(i == 4):\n",
    "            money = 10000\n",
    "        elif(i == 9):\n",
    "            money == 320000\n",
    "        \n"
   ]
  },
  {
   "cell_type": "code",
   "execution_count": 5,
   "metadata": {},
   "outputs": [
    {
     "name": "stdout",
     "output_type": "stream",
     "text": [
      "20\n",
      "30\n",
      "50\n",
      "98\n",
      "chandni,awesome\n",
      "35\n",
      "54\n"
     ]
    }
   ],
   "source": [
    "marks = [20,30,50,98,35,54]\n",
    "index = 0\n",
    "for mark in marks:\n",
    "    print(mark)\n",
    "    if (index == 3):\n",
    "      print(\"chandni,awesome\")\n",
    "    index += 1  \n"
   ]
  },
  {
   "cell_type": "code",
   "execution_count": 6,
   "metadata": {},
   "outputs": [
    {
     "name": "stdout",
     "output_type": "stream",
     "text": [
      "Return type: <class 'enumerate'>\n",
      "[(0, 20), (1, 30), (2, 50), (3, 98), (4, 35), (5, 54)]\n",
      "[(2, 'g'), (3, 'e'), (4, 'e'), (5, 'k'), (6, 's')]\n"
     ]
    }
   ],
   "source": [
    "l1 = [20,30,50,98,35,54]\n",
    "s1 = 'geeks'\n",
    "obj1 = enumerate(l1)\n",
    "obj2 = enumerate(s1)\n",
    "print (\"Return type:\", type(obj1))\n",
    "print (list(enumerate(l1)))\n",
    "print(list(enumerate(s1,2)))"
   ]
  },
  {
   "cell_type": "code",
   "execution_count": 7,
   "metadata": {},
   "outputs": [
    {
     "name": "stdout",
     "output_type": "stream",
     "text": [
      "Current Working Directory: /home/chandni.shukla/Documents/practicepython\n"
     ]
    }
   ],
   "source": [
    "import os\n",
    "cwd = os.getcwd()\n",
    "print(\"Current Working Directory:\", cwd)"
   ]
  },
  {
   "cell_type": "code",
   "execution_count": 3,
   "metadata": {},
   "outputs": [
    {
     "name": "stdout",
     "output_type": "stream",
     "text": [
      "2\n",
      "I am print always\n",
      "1\n"
     ]
    }
   ],
   "source": [
    "def func1():\n",
    "    try:\n",
    "        l = [1,2,3,4]\n",
    "        i = int(input(\"Enter a index\"))\n",
    "        print(l[i])\n",
    "        return 1\n",
    "    except:\n",
    "        print(\"some error occured\")\n",
    "        return 0\n",
    "    finally:\n",
    "        print('I am print always')\n",
    "x = func1()\n",
    "print(x)"
   ]
  },
  {
   "cell_type": "code",
   "execution_count": 24,
   "metadata": {},
   "outputs": [],
   "source": [
    "a = input(\"Enter any value between 5 and 9 : \")\n",
    "\n",
    "if a == \"quit\":\n",
    "    print(\"you choosed to quit\")\n",
    "elif (int(a) < 5 or int(a) > 9):\n",
    "    raise ValueError(\"Value should be between 5 and 9\")"
   ]
  },
  {
   "cell_type": "code",
   "execution_count": 22,
   "metadata": {},
   "outputs": [
    {
     "name": "stdout",
     "output_type": "stream",
     "text": [
      "The name of employee: {self.id} is {self.name}\n",
      "The name of employee: {self.id} is {self.name}\n",
      "The default languge is python\n"
     ]
    }
   ],
   "source": [
    "class Employee:\n",
    "    def __init__(self, name, id):\n",
    "        self.name = name\n",
    "        self.id = id\n",
    "    def showDetails(self):\n",
    "        print(\"The name of employee: {self.id} is {self.name}\")\n",
    "class Programmer(Employee):\n",
    "    def showLanguage(self):\n",
    "        print(\"The default languge is python\")\n",
    "\n",
    "\n",
    "e1 = Employee(\"Rohan Das\", 400)\n",
    "e1.showDetails()\n",
    "e2 = Programmer(\"chandni\", 4100)\n",
    "e2.showDetails()\n",
    "e2.showLanguage()"
   ]
  },
  {
   "cell_type": "code",
   "execution_count": 7,
   "metadata": {},
   "outputs": [
    {
     "data": {
      "text/plain": [
       "([<matplotlib.patches.Wedge at 0x7f52cf0520d0>,\n",
       "  <matplotlib.patches.Wedge at 0x7f52cf03efa0>,\n",
       "  <matplotlib.patches.Wedge at 0x7f52cf0529a0>],\n",
       " [Text(-0.7778174593052023, 0.7778174593052024, 'C'),\n",
       "  Text(-0.7778174593052025, -0.7778174593052023, 'Q'),\n",
       "  Text(1.1, -2.6942229581241775e-16, 'S')])"
      ]
     },
     "execution_count": 7,
     "metadata": {},
     "output_type": "execute_result"
    },
    {
     "data": {
      "image/png": "[encoded data removed]",
      "text/plain": [
       "<Figure size 640x480 with 1 Axes>"
      ]
     },
     "metadata": {},
     "output_type": "display_data"
    }
   ],
   "source": [
    "import matplotlib.pyplot as plty\n",
    "import numpy as np\n",
    "plty.pie(np.array([25, 25, 50]), labels = ['C', 'Q', 'S'], startangle = 90)\n"
   ]
  },
  {
   "cell_type": "code",
   "execution_count": 18,
   "metadata": {},
   "outputs": [],
   "source": [
    "class Library:\n",
    "    def __init__(self):\n",
    "        self.noBooks = 0\n",
    "        self.Books = []\n",
    "    def addBook(self, book):\n",
    "        self.books.append(book)\n",
    "        self.noBooks = len(self.books)\n",
    "    def showInfo(self):\n",
    "        print(f\"The library has {self.noBooks} books\")\n",
    "\n",
    "        l1 = Library()\n",
    "        l1.addBook(\"Harry potter\")\n",
    "        l1.showInfo()"
   ]
  },
  {
   "cell_type": "code",
   "execution_count": 21,
   "metadata": {},
   "outputs": [
    {
     "data": {
      "image/png": "[encoded data removed]",
      "text/plain": [
       "<Figure size 640x480 with 2 Axes>"
      ]
     },
     "metadata": {},
     "output_type": "display_data"
    }
   ],
   "source": [
    "import matplotlib.pyplot as plt\n",
    "import numpy as np\n",
    "\n",
    "x = np.array([5,6,7,5,8,9,3,5,6,7,9,2,4])\n",
    "y = np.array([99,98,78,87,67,56,76,45,35,23,67,89,90])\n",
    "colors = np.array([0,10,20,30,40,45,50,55,60,65,70,80,90])\n",
    "plt.scatter(x,y, c= colors, cmap='viridis')\n",
    "plt.colorbar()\n",
    "plt.show()"
   ]
  },
  {
   "cell_type": "code",
   "execution_count": 126,
   "metadata": {},
   "outputs": [
    {
     "name": "stdout",
     "output_type": "stream",
     "text": [
      "9\n"
     ]
    }
   ],
   "source": [
    "a = 4\n",
    "b = 5\n",
    "c = 8\n",
    "ans = a^b^c\n",
    "print(ans)"
   ]
  },
  {
   "cell_type": "code",
   "execution_count": 30,
   "metadata": {},
   "outputs": [
    {
     "name": "stdout",
     "output_type": "stream",
     "text": [
      "5\n"
     ]
    }
   ],
   "source": [
    "class MyClass:\n",
    "    x = 5\n",
    "p1 = MyClass()\n",
    "print(p1.x)"
   ]
  },
  {
   "cell_type": "code",
   "execution_count": 31,
   "metadata": {},
   "outputs": [
    {
     "name": "stdout",
     "output_type": "stream",
     "text": [
      "banana\n",
      "chandni\n",
      "ankita\n"
     ]
    }
   ],
   "source": [
    "mytuple = (\"banana\", \"chandni\", \"ankita\")\n",
    "my = iter(mytuple)\n",
    "print(next(my))\n",
    "print(next(my))\n",
    "print(next(my))"
   ]
  },
  {
   "cell_type": "code",
   "execution_count": 32,
   "metadata": {},
   "outputs": [
    {
     "name": "stdout",
     "output_type": "stream",
     "text": [
      "c\n",
      "h\n",
      "a\n",
      "n\n",
      "d\n",
      "n\n",
      "i\n"
     ]
    }
   ],
   "source": [
    "mystr = \"chandni\"\n",
    "my = iter(mystr)\n",
    "print(next(my))\n",
    "print(next(my))\n",
    "print(next(my))\n",
    "print(next(my))\n",
    "print(next(my))\n",
    "print(next(my))\n",
    "print(next(my))"
   ]
  },
  {
   "cell_type": "code",
   "execution_count": 33,
   "metadata": {},
   "outputs": [
    {
     "name": "stdout",
     "output_type": "stream",
     "text": [
      "c\n",
      "h\n",
      "a\n",
      "n\n",
      "d\n",
      "n\n",
      "i\n"
     ]
    }
   ],
   "source": [
    "myname = \"chandni\"\n",
    "for x in myname:\n",
    "    print(x)"
   ]
  },
  {
   "cell_type": "code",
   "execution_count": 132,
   "metadata": {},
   "outputs": [
    {
     "name": "stdout",
     "output_type": "stream",
     "text": [
      "1\n",
      "2\n",
      "3\n"
     ]
    }
   ],
   "source": [
    "class MyNumbers:\n",
    "    def __iter__(self):\n",
    "        self.a = 1\n",
    "        return self\n",
    "    def __next__(self):\n",
    "        x = self.a\n",
    "        self.a += 1\n",
    "        return x\n",
    "myclass = MyNumbers()\n",
    "myiter = iter(myclass)\n",
    "\n",
    "print(next(myiter))\n",
    "print(next(myiter))\n",
    "print(next(myiter))\n"
   ]
  },
  {
   "cell_type": "code",
   "execution_count": 37,
   "metadata": {},
   "outputs": [
    {
     "name": "stdout",
     "output_type": "stream",
     "text": [
      "chandni 22 Engineer\n"
     ]
    }
   ],
   "source": [
    "class Person:\n",
    "    name = \"chandni\"\n",
    "    age = 22\n",
    "    occupation = \"Engineer\"\n",
    "a = Person()\n",
    "# a.name = \"Ankita\"\n",
    "# a.age = 22\n",
    "print(a.name, a.age, a.occupation)"
   ]
  },
  {
   "cell_type": "code",
   "execution_count": 54,
   "metadata": {},
   "outputs": [
    {
     "name": "stdout",
     "output_type": "stream",
     "text": [
      "[100, 20, 30, 30]\n",
      "[20]\n"
     ]
    }
   ],
   "source": [
    "list = [10,20,30,30]#allow duplicates\n",
    "list[0] = 100\n",
    "print(list)\n",
    "#slicing can be done\n",
    "print(list[1:2])"
   ]
  },
  {
   "cell_type": "code",
   "execution_count": 51,
   "metadata": {},
   "outputs": [
    {
     "name": "stdout",
     "output_type": "stream",
     "text": [
      "{'chandni': 50, 'ankita': 47}\n"
     ]
    }
   ],
   "source": [
    "dict = {\"chandni\":20, \"ankita\":47, \"chandni\":20}\n",
    "#duplicates key not allowed but duplicate value allowed\n",
    "#slicing can't be done\n",
    "dict[\"chandni\"] = 50\n",
    "print(dict)"
   ]
  },
  {
   "cell_type": "code",
   "execution_count": 55,
   "metadata": {},
   "outputs": [
    {
     "name": "stdout",
     "output_type": "stream",
     "text": [
      "(10, 20, 30)\n",
      "(10, 20, 30, 30) 20 chandni ankita\n"
     ]
    }
   ],
   "source": [
    "tup1 = (10,20,30,30)#allow duplicates faster than lists\n",
    "tup2 = 10,20,30\n",
    "tup3 = (\"chandni\", \"ankita\")\n",
    "tup4 = \"chandni\", \"ankita\"\n",
    "print(tup1[0:3])#slicing can be done\n",
    "print(tup1,tup2[1],tup3[0],tup4[1])"
   ]
  },
  {
   "cell_type": "code",
   "execution_count": 56,
   "metadata": {},
   "outputs": [
    {
     "name": "stdout",
     "output_type": "stream",
     "text": [
      "Name is chandni\n"
     ]
    }
   ],
   "source": [
    "class MyClass:\n",
    "    def myfunc(self):\n",
    "        pass\n",
    "    def display(self,name):\n",
    "        print(\"Name is\", name)\n",
    "mc = MyClass()\n",
    "mc.myfunc()\n",
    "mc.display(\"chandni\")        "
   ]
  },
  {
   "cell_type": "code",
   "execution_count": 64,
   "metadata": {},
   "outputs": [
    {
     "name": "stdout",
     "output_type": "stream",
     "text": [
      "Instance method\n",
      "static method\n"
     ]
    }
   ],
   "source": [
    "class MyClass:\n",
    "    def m1(self):\n",
    "        print(\"Instance method\")\n",
    "    @staticmethod\n",
    "    def m2():\n",
    "        print(\"static method\")\n",
    "mc = MyClass()\n",
    "mc.m1()\n",
    "MyClass.m2()        "
   ]
  },
  {
   "cell_type": "code",
   "execution_count": 128,
   "metadata": {},
   "outputs": [
    {
     "data": {
      "text/plain": [
       "['II', 'mm', 'pp', 'rr', 'ee', 'ss', 'ss', 'ii', 'cc', 'oo']"
      ]
     },
     "execution_count": 128,
     "metadata": {},
     "output_type": "execute_result"
    }
   ],
   "source": [
    "l = \"Impressico\"\n",
    "list = [i*2 for i in l]\n",
    "list"
   ]
  },
  {
   "cell_type": "code",
   "execution_count": 84,
   "metadata": {},
   "outputs": [
    {
     "data": {
      "text/plain": [
       "{1: 'a', 2: 'b', 3: 'c', 4: 'd'}"
      ]
     },
     "execution_count": 84,
     "metadata": {},
     "output_type": "execute_result"
    }
   ],
   "source": [
    "values = [1,2,3,4]\n",
    "index = ['a', 'b', 'c', 'd']\n",
    "dict = {l:i for (l,i) in zip(values, index)}\n",
    "dict"
   ]
  },
  {
   "cell_type": "code",
   "execution_count": 88,
   "metadata": {},
   "outputs": [
    {
     "name": "stdout",
     "output_type": "stream",
     "text": [
      "[0, 2, 4, 6, 8, 10]\n"
     ]
    }
   ],
   "source": [
    "list = [i for i in range(11) if i % 2 == 0]\n",
    "print(list)"
   ]
  },
  {
   "cell_type": "code",
   "execution_count": 90,
   "metadata": {},
   "outputs": [
    {
     "name": "stdout",
     "output_type": "stream",
     "text": [
      "this is child method\n",
      "this is parent method\n"
     ]
    }
   ],
   "source": [
    "# using super() keyword\n",
    "class ParentClass:\n",
    "    def parent_method(self):\n",
    "        print(\"this is parent method\")\n",
    "\n",
    "class ChildClass(ParentClass):\n",
    "    def child_method(self):\n",
    "        print(\"this is child method\")\n",
    "\n",
    "        super().parent_method()\n",
    "child_object = ChildClass()\n",
    "child_object.child_method()            "
   ]
  },
  {
   "cell_type": "code",
   "execution_count": 92,
   "metadata": {},
   "outputs": [
    {
     "name": "stdout",
     "output_type": "stream",
     "text": [
      "Rohit\n",
      "3545\n",
      "python\n"
     ]
    }
   ],
   "source": [
    "class Employee:\n",
    "    def __init__(self, name, id):\n",
    "        self.name =  name\n",
    "        self.id = id\n",
    "\n",
    "class Programmer(Employee):\n",
    "    def __init__(self, name, id, lang):\n",
    "        super().__init__(name,id)\n",
    "        self.lang = lang\n",
    "rohan = Employee(\"Rohan Das\", \"45\")\n",
    "Rohit = Programmer(\"Rohit\", \"3545\", \"python\")\n",
    "print(Rohit.name)\n",
    "print(Rohit.id)\n",
    "print(Rohit.lang)\n",
    "    "
   ]
  },
  {
   "cell_type": "code",
   "execution_count": 139,
   "metadata": {},
   "outputs": [
    {
     "name": "stdout",
     "output_type": "stream",
     "text": [
      "<generator object gen at 0x7f52ccd25b30>\n",
      "0\n",
      "1\n",
      "2\n",
      "3\n",
      "4\n",
      "5\n",
      "6\n",
      "7\n",
      "8\n",
      "9\n"
     ]
    }
   ],
   "source": [
    "def gen(n):\n",
    "    for i in range(n):\n",
    "        yield i\n",
    "print(gen(10)) \n",
    "for i in gen(10):\n",
    "    print(i)       "
   ]
  },
  {
   "cell_type": "code",
   "execution_count": 100,
   "metadata": {},
   "outputs": [
    {
     "name": "stdout",
     "output_type": "stream",
     "text": [
      "3\n",
      "3\n",
      "4\n",
      "4\n"
     ]
    }
   ],
   "source": [
    "#iterable\n",
    "num = \"3344\"#iterable can't iterate int beacause 'int object is not iterble\n",
    "for i in num:\n",
    "    print(i)"
   ]
  },
  {
   "attachments": {},
   "cell_type": "markdown",
   "metadata": {
    "tags": []
   },
   "source": [
    "Genrators"
   ]
  },
  {
   "attachments": {},
   "cell_type": "markdown",
   "metadata": {
    "tags": []
   },
   "source": [
    "Write a generator function that generates the sequence of even numbers up to 10."
   ]
  },
  {
   "cell_type": "code",
   "execution_count": 101,
   "metadata": {},
   "outputs": [
    {
     "name": "stdout",
     "output_type": "stream",
     "text": [
      "0\n",
      "2\n",
      "4\n",
      "6\n",
      "8\n",
      "10\n"
     ]
    }
   ],
   "source": [
    "def even_numbers():\n",
    "    n = 0\n",
    "    while n <= 10:\n",
    "     yield n\n",
    "     n+=2\n",
    "even_generator = even_numbers()\n",
    "for num in even_generator:\n",
    "   print(num)     "
   ]
  },
  {
   "attachments": {},
   "cell_type": "markdown",
   "metadata": {
    "tags": []
   },
   "source": [
    "Create a generator function that takes a string as input and yields each character of the string in reverse order."
   ]
  },
  {
   "cell_type": "code",
   "execution_count": 10,
   "metadata": {},
   "outputs": [
    {
     "name": "stdout",
     "output_type": "stream",
     "text": [
      "i\n",
      "n\n",
      "d\n",
      "n\n",
      "a\n",
      "h\n",
      "c\n",
      "-\n",
      "o\n",
      "l\n",
      "l\n",
      "e\n",
      "h\n"
     ]
    }
   ],
   "source": [
    "def reverse_function(string):\n",
    "    length = len(string)\n",
    "    for i in range(length-1,-1,-1):\n",
    "        yield string[i]\n",
    "\n",
    "input_string = \"hello-chandni\"\n",
    "reverse_generator = reverse_function(input_string)\n",
    "for char in reverse_generator:\n",
    " print(char)        "
   ]
  },
  {
   "cell_type": "code",
   "execution_count": 107,
   "metadata": {},
   "outputs": [
    {
     "name": "stdout",
     "output_type": "stream",
     "text": [
      "i\n",
      "n\n",
      "d\n",
      "n\n",
      "a\n",
      "h\n",
      "C\n"
     ]
    }
   ],
   "source": [
    "# another way\n",
    "def reverse_string(string):\n",
    "    for char in reversed(string):\n",
    "        yield char\n",
    "input_string = \"Chandni\"\n",
    "reverse_generator = reverse_string(input_string)\n",
    "for char in reverse_generator:\n",
    "    print(char)        "
   ]
  },
  {
   "attachments": {},
   "cell_type": "markdown",
   "metadata": {},
   "source": [
    "Implement a generator function that generates the Fibonacci sequence up to 10."
   ]
  },
  {
   "cell_type": "code",
   "execution_count": 108,
   "metadata": {},
   "outputs": [
    {
     "name": "stdout",
     "output_type": "stream",
     "text": [
      "0\n",
      "1\n",
      "1\n",
      "2\n",
      "3\n",
      "5\n",
      "8\n"
     ]
    }
   ],
   "source": [
    "def fibonacci_sequence(limit):\n",
    "    a,b = 0,1\n",
    "    while a <= limit:\n",
    "        yield a\n",
    "        a,b = b, a+b\n",
    "\n",
    "fibonacci_generator = fibonacci_sequence(10)\n",
    "for num in fibonacci_generator:\n",
    "    print(num)        "
   ]
  },
  {
   "attachments": {},
   "cell_type": "markdown",
   "metadata": {},
   "source": [
    "Create a generator function that generates the powers of a given base number 2 , starting from 0 to 5.\n",
    "output 1,2,4,8,16,32"
   ]
  },
  {
   "cell_type": "code",
   "execution_count": 109,
   "metadata": {},
   "outputs": [
    {
     "name": "stdout",
     "output_type": "stream",
     "text": [
      "1\n",
      "2\n",
      "4\n",
      "8\n",
      "16\n",
      "32\n"
     ]
    }
   ],
   "source": [
    "def powers_of_two():\n",
    "    power = 0\n",
    "    while power <= 5:\n",
    "        yield 2 ** power\n",
    "        power += 1\n",
    "\n",
    "powers_generator = powers_of_two()\n",
    "\n",
    "for num in powers_generator:\n",
    "    print(num)"
   ]
  },
  {
   "cell_type": "code",
   "execution_count": 117,
   "metadata": {},
   "outputs": [
    {
     "name": "stdout",
     "output_type": "stream",
     "text": [
      "1\n",
      "2\n",
      "4\n",
      "8\n",
      "16\n",
      "32\n"
     ]
    }
   ],
   "source": [
    "for i in range(6):\n",
    "    result = (2**i)\n",
    "    print(result)"
   ]
  },
  {
   "attachments": {},
   "cell_type": "markdown",
   "metadata": {},
   "source": [
    "Decorator:\n",
    "Implement a decorator function that prints \"Start\" before calling a function and \"End\" after the function returns."
   ]
  },
  {
   "cell_type": "code",
   "execution_count": 123,
   "metadata": {},
   "outputs": [
    {
     "name": "stdout",
     "output_type": "stream",
     "text": [
      "Start\n",
      "Inside the function\n",
      "End\n"
     ]
    }
   ],
   "source": [
    "def print_start_end(func):\n",
    "    def wrapper(*args, **kwargs):\n",
    "        print(\"Start\")\n",
    "        result = func(*args, **kwargs)\n",
    "        print(\"End\")\n",
    "        return result\n",
    "    return wrapper\n",
    "\n",
    "@print_start_end\n",
    "def my_function():\n",
    "    print(\"Inside the function\")\n",
    "\n",
    "my_function()"
   ]
  },
  {
   "attachments": {},
   "cell_type": "markdown",
   "metadata": {},
   "source": [
    "Write a decorator function that doubles the return value of a function."
   ]
  },
  {
   "cell_type": "code",
   "execution_count": 131,
   "metadata": {},
   "outputs": [
    {
     "name": "stdout",
     "output_type": "stream",
     "text": [
      "14\n"
     ]
    }
   ],
   "source": [
    "def double_return(func):\n",
    "    def wrapper(*num, **anum):\n",
    "        result = func(*num, **anum)\n",
    "        return result * 2\n",
    "    return wrapper\n",
    "\n",
    "# Example usage\n",
    "@double_return\n",
    "def add_numbers(a, b):\n",
    "    return a + b\n",
    "\n",
    "# Call the decorated function\n",
    "result = add_numbers(3, 4)\n",
    "print(result)    "
   ]
  },
  {
   "cell_type": "code",
   "execution_count": 11,
   "metadata": {},
   "outputs": [
    {
     "name": "stdout",
     "output_type": "stream",
     "text": [
      "iladizav\n"
     ]
    }
   ],
   "source": [
    "strng  = \"vazidali\"\n",
    "string1 = strng[::-1]\n",
    "print(string1)"
   ]
  },
  {
   "cell_type": "markdown",
   "metadata": {},
   "source": [
    "Regular Expression"
   ]
  },
  {
   "cell_type": "code",
   "execution_count": 102,
   "metadata": {},
   "outputs": [
    {
     "name": "stdout",
     "output_type": "stream",
     "text": [
      "<re.Match object; span=(13, 17), match='life'>\n"
     ]
    }
   ],
   "source": [
    "import re\n",
    "search_string = '''this is good life is good That is good'''\n",
    "m = re.search(r\"life\", search_string)\n",
    "print(m)"
   ]
  },
  {
   "cell_type": "code",
   "execution_count": 103,
   "metadata": {},
   "outputs": [
    {
     "name": "stdout",
     "output_type": "stream",
     "text": [
      "<re.Match object; span=(8, 38), match='good life is good That is good'>\n"
     ]
    }
   ],
   "source": [
    "m = re.search(r\"g.*d\", search_string)\n",
    "print(m)"
   ]
  },
  {
   "cell_type": "code",
   "execution_count": 137,
   "metadata": {},
   "outputs": [
    {
     "name": "stdout",
     "output_type": "stream",
     "text": [
      "<re.Match object; span=(8, 38), match='good.life is good.That is good'>\n"
     ]
    }
   ],
   "source": [
    "search_string = '''this is good.life is good.That is good'''\n",
    "m = re.search(r\"g.*d\", search_string)\n",
    "print(m)"
   ]
  },
  {
   "cell_type": "code",
   "execution_count": 105,
   "metadata": {},
   "outputs": [
    {
     "name": "stdout",
     "output_type": "stream",
     "text": [
      "<re.Match object; span=(8, 38), match='good life is good That is good'>\n"
     ]
    }
   ],
   "source": [
    "search_string = '''this is good life is good That is good'''\n",
    "m = re.search(r\"goo.+d\", search_string)\n",
    "print(m)"
   ]
  },
  {
   "cell_type": "code",
   "execution_count": 138,
   "metadata": {},
   "outputs": [
    {
     "name": "stdout",
     "output_type": "stream",
     "text": [
      "<re.Match object; span=(8, 15), match='goo123d'>\n"
     ]
    }
   ],
   "source": [
    "search_string = '''this is goo123d life is good That is good'''\n",
    "m = re.search(r\"goo.{2,3}d\", search_string)\n",
    "print(m)"
   ]
  },
  {
   "cell_type": "code",
   "execution_count": 139,
   "metadata": {},
   "outputs": [
    {
     "name": "stdout",
     "output_type": "stream",
     "text": [
      "<class 're.Match'>\n",
      "<re.Match object; span=(64, 70), match='55-655'>\n"
     ]
    }
   ],
   "source": [
    "search_string = '''\n",
    "this is good. Phone extn is a97365\n",
    "life is good. Phone extn is 55-655'''\n",
    "m = re.search(r\"\\b([0-9][0-9])-([0-9][0-9][0-9])\\b\", search_string)\n",
    "print(type(m))\n",
    "print(m)"
   ]
  },
  {
   "cell_type": "code",
   "execution_count": 108,
   "metadata": {},
   "outputs": [
    {
     "name": "stdout",
     "output_type": "stream",
     "text": [
      "\\ \\ \n",
      " \t \\\n"
     ]
    }
   ],
   "source": [
    "print(\"\\\\ \\\\ \\n \\t \\\\\")"
   ]
  },
  {
   "cell_type": "code",
   "execution_count": 43,
   "metadata": {},
   "outputs": [
    {
     "data": {
      "text/plain": [
       "['__class__',\n",
       " '__copy__',\n",
       " '__deepcopy__',\n",
       " '__delattr__',\n",
       " '__dir__',\n",
       " '__doc__',\n",
       " '__eq__',\n",
       " '__format__',\n",
       " '__ge__',\n",
       " '__getattribute__',\n",
       " '__getitem__',\n",
       " '__gt__',\n",
       " '__hash__',\n",
       " '__init__',\n",
       " '__init_subclass__',\n",
       " '__le__',\n",
       " '__lt__',\n",
       " '__ne__',\n",
       " '__new__',\n",
       " '__reduce__',\n",
       " '__reduce_ex__',\n",
       " '__repr__',\n",
       " '__setattr__',\n",
       " '__sizeof__',\n",
       " '__str__',\n",
       " '__subclasshook__',\n",
       " 'end',\n",
       " 'endpos',\n",
       " 'expand',\n",
       " 'group',\n",
       " 'groupdict',\n",
       " 'groups',\n",
       " 'lastgroup',\n",
       " 'lastindex',\n",
       " 'pos',\n",
       " 're',\n",
       " 'regs',\n",
       " 'span',\n",
       " 'start',\n",
       " 'string']"
      ]
     },
     "execution_count": 43,
     "metadata": {},
     "output_type": "execute_result"
    }
   ],
   "source": [
    "dir(m)"
   ]
  },
  {
   "cell_type": "code",
   "execution_count": 110,
   "metadata": {},
   "outputs": [
    {
     "name": "stdout",
     "output_type": "stream",
     "text": [
      "('55', '655')\n",
      "(64, 70)\n",
      "64\n",
      "70\n"
     ]
    }
   ],
   "source": [
    "print(m.groups())\n",
    "print(m.span())\n",
    "print(m.start())\n",
    "print(m.end())"
   ]
  },
  {
   "cell_type": "code",
   "execution_count": 121,
   "metadata": {},
   "outputs": [
    {
     "name": "stdout",
     "output_type": "stream",
     "text": [
      "Help on function fullmatch in module re:\n",
      "\n",
      "fullmatch(pattern, string, flags=0)\n",
      "    Try to apply the pattern to all of the string, returning\n",
      "    a Match object, or None if no match was found.\n",
      "\n"
     ]
    }
   ],
   "source": [
    "help(re.fullmatch)"
   ]
  },
  {
   "cell_type": "code",
   "execution_count": 112,
   "metadata": {},
   "outputs": [
    {
     "name": "stdout",
     "output_type": "stream",
     "text": [
      "['gd', 'gOod', 'goooood', 'goooooooood']\n"
     ]
    }
   ],
   "source": [
    "search_string = \"life is gd gOod. goooood < better. better > goooooooood\"\n",
    "m = re.findall(r\"g[a-zA-Z]*d\", search_string)\n",
    "print(m)"
   ]
  },
  {
   "cell_type": "code",
   "execution_count": 118,
   "metadata": {},
   "outputs": [
    {
     "name": "stdout",
     "output_type": "stream",
     "text": [
      "[('213', '55655'), ('213', '55655'), ('453', '45566'), ('564', '34567')]\n"
     ]
    }
   ],
   "source": [
    "search_string = '''\n",
    "213-55655\n",
    "213-55655\n",
    "13-55657\n",
    "ab cd\n",
    "453-45566\n",
    "564-34567 new life\n",
    "good\n",
    "'''\n",
    "#\\d Check if the string contains any digits (numbers from 0-9):\n",
    "m = re.findall(r\"(\\d\\d\\d)-(\\d\\d\\d\\d\\d)\", search_string)\n",
    "print(m)"
   ]
  },
  {
   "cell_type": "code",
   "execution_count": 119,
   "metadata": {},
   "outputs": [
    {
     "name": "stdout",
     "output_type": "stream",
     "text": [
      "[' ', ' ', ' ']\n"
     ]
    }
   ],
   "source": [
    "string = \"hlo how are you\"\n",
    "m = re.findall(\"\\s\", string)\n",
    "print(m)"
   ]
  },
  {
   "cell_type": "code",
   "execution_count": 98,
   "metadata": {},
   "outputs": [
    {
     "name": "stdout",
     "output_type": "stream",
     "text": [
      "['h', 'l', 'o', 'h', 'o', 'w', 'a', 'r', 'e', 'y', 'o', 'u']\n"
     ]
    }
   ],
   "source": [
    "string = \"hlo how are you\"\n",
    "#Return a match at every word character \n",
    "#(characters from a to Z, digits from 0-9, and the underscore _ character):\n",
    "m = re.findall(\"\\w\", string)\n",
    "print(m)"
   ]
  },
  {
   "cell_type": "code",
   "execution_count": 92,
   "metadata": {},
   "outputs": [
    {
     "name": "stdout",
     "output_type": "stream",
     "text": [
      "['Zeba']\n"
     ]
    }
   ],
   "source": [
    "string = \"hlo how are you Zeba\"\n",
    "m = re.findall(\"Zeba\\Z\", string)\n",
    "#check if the string ends with Zeba\n",
    "print(m)"
   ]
  },
  {
   "cell_type": "code",
   "execution_count": 93,
   "metadata": {},
   "outputs": [
    {
     "name": "stdout",
     "output_type": "stream",
     "text": [
      "['a', 'r', 'a', 'n', 'n']\n"
     ]
    }
   ],
   "source": [
    "string = \"hlo how are you chandni\"\n",
    "#Check if the string has any a, r, or n characters:\n",
    "m = re.findall(\"[arn]\", string)\n",
    "print(m)"
   ]
  },
  {
   "cell_type": "code",
   "execution_count": 94,
   "metadata": {},
   "outputs": [
    {
     "name": "stdout",
     "output_type": "stream",
     "text": [
      "['h', 'l', 'h', 'a', 'e', 'c', 'h', 'a', 'n', 'd', 'n', 'i']\n"
     ]
    }
   ],
   "source": [
    "string = \"hlo how are you chandni\"\n",
    "#Check if the string has any characters between a and n:\n",
    "m = re.findall(\"[a-n]\", string)\n",
    "print(m)"
   ]
  },
  {
   "cell_type": "code",
   "execution_count": 122,
   "metadata": {},
   "outputs": [
    {
     "name": "stdout",
     "output_type": "stream",
     "text": [
      "['h', 'l', 'o', ' ', 'h', 'o', 'w', ' ', 'e', ' ', 'y', 'o', 'u', ' ', 'c', 'h', 'd', 'i']\n"
     ]
    }
   ],
   "source": [
    "string = \"hlo how are you chandni\"\n",
    "#Returns a match for any character EXCEPT a, r, and n\n",
    "m = re.findall(\"[^arn]\", string)\n",
    "print(m)"
   ]
  },
  {
   "cell_type": "code",
   "execution_count": 131,
   "metadata": {},
   "outputs": [
    {
     "data": {
      "text/plain": [
       "re.Pattern"
      ]
     },
     "execution_count": 131,
     "metadata": {},
     "output_type": "execute_result"
    }
   ],
   "source": [
    "string = \"hlo how are you chandni\"\n",
    "pattern = re.compile(r\"h\\w|a\\w\")\n",
    "type(m)"
   ]
  },
  {
   "cell_type": "code",
   "execution_count": 132,
   "metadata": {},
   "outputs": [
    {
     "name": "stdout",
     "output_type": "stream",
     "text": [
      "Help on function finditer in module re:\n",
      "\n",
      "finditer(pattern, string, flags=0)\n",
      "    Return an iterator over all non-overlapping matches in the\n",
      "    string.  For each match, the iterator returns a Match object.\n",
      "    \n",
      "    Empty matches are included in the result.\n",
      "\n"
     ]
    }
   ],
   "source": [
    "help(re.finditer)"
   ]
  },
  {
   "cell_type": "code",
   "execution_count": 135,
   "metadata": {},
   "outputs": [
    {
     "name": "stdout",
     "output_type": "stream",
     "text": [
      "<re.Match object; span=(0, 2), match='hl'>\n",
      "groups= ()\n",
      "<re.Match object; span=(4, 6), match='ho'>\n",
      "groups= ()\n",
      "<re.Match object; span=(8, 10), match='ar'>\n",
      "groups= ()\n",
      "<re.Match object; span=(17, 19), match='ha'>\n",
      "groups= ()\n"
     ]
    }
   ],
   "source": [
    "matches = pattern.finditer(string)\n",
    "for m in matches:\n",
    "    print(m)\n",
    "    print(\"groups=\", m.groups())"
   ]
  },
  {
   "cell_type": "code",
   "execution_count": 140,
   "metadata": {},
   "outputs": [
    {
     "name": "stdout",
     "output_type": "stream",
     "text": [
      "['The', 'rain', 'in', 'Spain']\n"
     ]
    }
   ],
   "source": [
    "txt = \"The rain in Spain\"\n",
    "x = re.split(\"\\s\", txt)\n",
    "print(x)"
   ]
  },
  {
   "cell_type": "code",
   "execution_count": 142,
   "metadata": {},
   "outputs": [
    {
     "name": "stdout",
     "output_type": "stream",
     "text": [
      "The9rain9in9Spain\n"
     ]
    }
   ],
   "source": [
    "txt = \"The rain in Spain\"\n",
    "#Replace all white-space characters with the digit \"9\":\n",
    "x = re.sub(\"\\s\", \"9\", txt)\n",
    "print(x)"
   ]
  },
  {
   "cell_type": "code",
   "execution_count": null,
   "metadata": {},
   "outputs": [],
   "source": []
  }
 ],
 "metadata": {
  "kernelspec": {
   "display_name": "Python 3",
   "language": "python",
   "name": "python3"
  },
  "language_info": {
   "codemirror_mode": {
    "name": "ipython",
    "version": 3
   },
   "file_extension": ".py",
   "mimetype": "text/x-python",
   "name": "python",
   "nbconvert_exporter": "python",
   "pygments_lexer": "ipython3",
   "version": "3.8.10"
  },
  "orig_nbformat": 4
 },
 "nbformat": 4,
 "nbformat_minor": 2
}
